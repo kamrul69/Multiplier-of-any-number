{
  "cells": [
    {
      "cell_type": "code",
      "execution_count": null,
      "id": "93cb4fee",
      "metadata": {
        "collapsed": true,
        "id": "93cb4fee"
      },
      "outputs": [],
      "source": [
        "number = int(input('\\nতুমি কোন নামতাটা শিখতে চাও (Which multiplyer you want to learn)? '))\n",
        "\n",
        "i = 1\n",
        "while True:\n",
        "  \n",
        "  print('\\n',number, '*', i, '= ', number*i)\n",
        "  i = i +1\n",
        "  if i == 11:\n",
        "    break"
      ]
    },
    {
      "cell_type": "code",
      "source": [],
      "metadata": {
        "id": "XGxZF25qp9sR"
      },
      "id": "XGxZF25qp9sR",
      "execution_count": null,
      "outputs": []
    }
  ],
  "metadata": {
    "kernelspec": {
      "display_name": "Python 3 (ipykernel)",
      "language": "python",
      "name": "python3"
    },
    "language_info": {
      "codemirror_mode": {
        "name": "ipython",
        "version": 3
      },
      "file_extension": ".py",
      "mimetype": "text/x-python",
      "name": "python",
      "nbconvert_exporter": "python",
      "pygments_lexer": "ipython3",
      "version": "3.7.5"
    },
    "colab": {
      "provenance": []
    }
  },
  "nbformat": 4,
  "nbformat_minor": 5
}